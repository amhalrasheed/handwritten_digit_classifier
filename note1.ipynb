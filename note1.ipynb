{
 "cells": [
  {
   "cell_type": "code",
   "execution_count": 1,
   "metadata": {},
   "outputs": [
    {
     "name": "stderr",
     "output_type": "stream",
     "text": [
      "Intel(R) Extension for Scikit-learn* enabled (https://github.com/intel/scikit-learn-intelex)\n",
      "2022-04-11 21:17:34.702960: W tensorflow/stream_executor/platform/default/dso_loader.cc:64] Could not load dynamic library 'libcudart.so.11.0'; dlerror: libcudart.so.11.0: cannot open shared object file: No such file or directory\n",
      "2022-04-11 21:17:34.702992: I tensorflow/stream_executor/cuda/cudart_stub.cc:29] Ignore above cudart dlerror if you do not have a GPU set up on your machine.\n"
     ]
    }
   ],
   "source": [
    "import numpy as np\n",
    "import pandas as pd\n",
    "import matplotlib.pyplot as plt\n",
    "%matplotlib inline\n",
    "import pylab as pl\n",
    "import pickle\n",
    "from sklearnex import patch_sklearn\n",
    "patch_sklearn()\n",
    "from sklearn import svm\n",
    "from sklearn.tree import DecisionTreeClassifier \n",
    "from sklearn.model_selection import train_test_split\n",
    "from sklearn.metrics import accuracy_score\n",
    "from sklearn.model_selection import cross_val_score\n",
    "from sklearn import metrics"
   ]
  },
  {
   "cell_type": "markdown",
   "metadata": {},
   "source": [
    "### Libraries\n",
    "\n",
    "| Library      | Description |\n",
    "| ------------ | ----------- |\n",
    "| numpy        | for array computation |\n",
    "| matplotlib   | Python plotting package |\n",
    "| pylab        | utilities |\n",
    "| sklearnex    | Intel(R) Extension for Scikit-learn is a seamless way to speed up your Scikit-learn application |\n",
    "| sklearn      | A set of python modules for machine learning and data mining |\n",
    "| pickle       | Python object serialization |\n"
   ]
  },
  {
   "cell_type": "markdown",
   "metadata": {},
   "source": [
    "### The dataset\n",
    "\n",
    "The dataset we used for this project is the MNIST (\"Modified National Institute of Standards and Technology\") of handwritten digits, it contains 70000 sample of 784 grayscale pixel of the 10 digits labeled from (0-9)"
   ]
  },
  {
   "cell_type": "code",
   "execution_count": 2,
   "metadata": {},
   "outputs": [
    {
     "data": {
      "text/html": [
       "<div>\n",
       "<style scoped>\n",
       "    .dataframe tbody tr th:only-of-type {\n",
       "        vertical-align: middle;\n",
       "    }\n",
       "\n",
       "    .dataframe tbody tr th {\n",
       "        vertical-align: top;\n",
       "    }\n",
       "\n",
       "    .dataframe thead th {\n",
       "        text-align: right;\n",
       "    }\n",
       "</style>\n",
       "<table border=\"1\" class=\"dataframe\">\n",
       "  <thead>\n",
       "    <tr style=\"text-align: right;\">\n",
       "      <th></th>\n",
       "      <th>label</th>\n",
       "      <th>1x1</th>\n",
       "      <th>1x2</th>\n",
       "      <th>1x3</th>\n",
       "      <th>1x4</th>\n",
       "      <th>1x5</th>\n",
       "      <th>1x6</th>\n",
       "      <th>1x7</th>\n",
       "      <th>1x8</th>\n",
       "      <th>1x9</th>\n",
       "      <th>...</th>\n",
       "      <th>28x19</th>\n",
       "      <th>28x20</th>\n",
       "      <th>28x21</th>\n",
       "      <th>28x22</th>\n",
       "      <th>28x23</th>\n",
       "      <th>28x24</th>\n",
       "      <th>28x25</th>\n",
       "      <th>28x26</th>\n",
       "      <th>28x27</th>\n",
       "      <th>28x28</th>\n",
       "    </tr>\n",
       "  </thead>\n",
       "  <tbody>\n",
       "    <tr>\n",
       "      <th>0</th>\n",
       "      <td>5</td>\n",
       "      <td>0</td>\n",
       "      <td>0</td>\n",
       "      <td>0</td>\n",
       "      <td>0</td>\n",
       "      <td>0</td>\n",
       "      <td>0</td>\n",
       "      <td>0</td>\n",
       "      <td>0</td>\n",
       "      <td>0</td>\n",
       "      <td>...</td>\n",
       "      <td>0</td>\n",
       "      <td>0</td>\n",
       "      <td>0</td>\n",
       "      <td>0</td>\n",
       "      <td>0</td>\n",
       "      <td>0</td>\n",
       "      <td>0</td>\n",
       "      <td>0</td>\n",
       "      <td>0</td>\n",
       "      <td>0</td>\n",
       "    </tr>\n",
       "    <tr>\n",
       "      <th>1</th>\n",
       "      <td>0</td>\n",
       "      <td>0</td>\n",
       "      <td>0</td>\n",
       "      <td>0</td>\n",
       "      <td>0</td>\n",
       "      <td>0</td>\n",
       "      <td>0</td>\n",
       "      <td>0</td>\n",
       "      <td>0</td>\n",
       "      <td>0</td>\n",
       "      <td>...</td>\n",
       "      <td>0</td>\n",
       "      <td>0</td>\n",
       "      <td>0</td>\n",
       "      <td>0</td>\n",
       "      <td>0</td>\n",
       "      <td>0</td>\n",
       "      <td>0</td>\n",
       "      <td>0</td>\n",
       "      <td>0</td>\n",
       "      <td>0</td>\n",
       "    </tr>\n",
       "    <tr>\n",
       "      <th>2</th>\n",
       "      <td>4</td>\n",
       "      <td>0</td>\n",
       "      <td>0</td>\n",
       "      <td>0</td>\n",
       "      <td>0</td>\n",
       "      <td>0</td>\n",
       "      <td>0</td>\n",
       "      <td>0</td>\n",
       "      <td>0</td>\n",
       "      <td>0</td>\n",
       "      <td>...</td>\n",
       "      <td>0</td>\n",
       "      <td>0</td>\n",
       "      <td>0</td>\n",
       "      <td>0</td>\n",
       "      <td>0</td>\n",
       "      <td>0</td>\n",
       "      <td>0</td>\n",
       "      <td>0</td>\n",
       "      <td>0</td>\n",
       "      <td>0</td>\n",
       "    </tr>\n",
       "    <tr>\n",
       "      <th>3</th>\n",
       "      <td>1</td>\n",
       "      <td>0</td>\n",
       "      <td>0</td>\n",
       "      <td>0</td>\n",
       "      <td>0</td>\n",
       "      <td>0</td>\n",
       "      <td>0</td>\n",
       "      <td>0</td>\n",
       "      <td>0</td>\n",
       "      <td>0</td>\n",
       "      <td>...</td>\n",
       "      <td>0</td>\n",
       "      <td>0</td>\n",
       "      <td>0</td>\n",
       "      <td>0</td>\n",
       "      <td>0</td>\n",
       "      <td>0</td>\n",
       "      <td>0</td>\n",
       "      <td>0</td>\n",
       "      <td>0</td>\n",
       "      <td>0</td>\n",
       "    </tr>\n",
       "    <tr>\n",
       "      <th>4</th>\n",
       "      <td>9</td>\n",
       "      <td>0</td>\n",
       "      <td>0</td>\n",
       "      <td>0</td>\n",
       "      <td>0</td>\n",
       "      <td>0</td>\n",
       "      <td>0</td>\n",
       "      <td>0</td>\n",
       "      <td>0</td>\n",
       "      <td>0</td>\n",
       "      <td>...</td>\n",
       "      <td>0</td>\n",
       "      <td>0</td>\n",
       "      <td>0</td>\n",
       "      <td>0</td>\n",
       "      <td>0</td>\n",
       "      <td>0</td>\n",
       "      <td>0</td>\n",
       "      <td>0</td>\n",
       "      <td>0</td>\n",
       "      <td>0</td>\n",
       "    </tr>\n",
       "  </tbody>\n",
       "</table>\n",
       "<p>5 rows × 785 columns</p>\n",
       "</div>"
      ],
      "text/plain": [
       "   label  1x1  1x2  1x3  1x4  1x5  1x6  1x7  1x8  1x9  ...  28x19  28x20  \\\n",
       "0      5    0    0    0    0    0    0    0    0    0  ...      0      0   \n",
       "1      0    0    0    0    0    0    0    0    0    0  ...      0      0   \n",
       "2      4    0    0    0    0    0    0    0    0    0  ...      0      0   \n",
       "3      1    0    0    0    0    0    0    0    0    0  ...      0      0   \n",
       "4      9    0    0    0    0    0    0    0    0    0  ...      0      0   \n",
       "\n",
       "   28x21  28x22  28x23  28x24  28x25  28x26  28x27  28x28  \n",
       "0      0      0      0      0      0      0      0      0  \n",
       "1      0      0      0      0      0      0      0      0  \n",
       "2      0      0      0      0      0      0      0      0  \n",
       "3      0      0      0      0      0      0      0      0  \n",
       "4      0      0      0      0      0      0      0      0  \n",
       "\n",
       "[5 rows x 785 columns]"
      ]
     },
     "execution_count": 2,
     "metadata": {},
     "output_type": "execute_result"
    }
   ],
   "source": [
    "df = pd.read_csv(\"mnist_dataset.csv\")\n",
    "df.head()"
   ]
  },
  {
   "cell_type": "code",
   "execution_count": 3,
   "metadata": {},
   "outputs": [],
   "source": [
    "x = df.drop('label', axis='columns')\n",
    "y = df['label']"
   ]
  },
  {
   "cell_type": "code",
   "execution_count": null,
   "metadata": {},
   "outputs": [],
   "source": [
    "x.head()"
   ]
  },
  {
   "cell_type": "code",
   "execution_count": null,
   "metadata": {},
   "outputs": [],
   "source": [
    "y.head()"
   ]
  },
  {
   "cell_type": "code",
   "execution_count": 14,
   "metadata": {},
   "outputs": [
    {
     "data": {
      "text/plain": [
       "((70000, 784), (70000,))"
      ]
     },
     "execution_count": 14,
     "metadata": {},
     "output_type": "execute_result"
    }
   ],
   "source": [
    "x.shape, y.shape"
   ]
  },
  {
   "cell_type": "code",
   "execution_count": 4,
   "metadata": {},
   "outputs": [],
   "source": [
    "x_train, x_test, y_train, y_test = train_test_split(x, y, test_size=0.3, random_state=29)"
   ]
  },
  {
   "cell_type": "code",
   "execution_count": 5,
   "metadata": {},
   "outputs": [
    {
     "data": {
      "text/plain": [
       "((49000, 784), (49000,), (21000, 784), (21000,))"
      ]
     },
     "execution_count": 5,
     "metadata": {},
     "output_type": "execute_result"
    }
   ],
   "source": [
    "x_train.shape, y_train.shape, x_test.shape, y_test.shape"
   ]
  },
  {
   "cell_type": "markdown",
   "metadata": {},
   "source": [
    "# tree"
   ]
  },
  {
   "cell_type": "code",
   "execution_count": null,
   "metadata": {},
   "outputs": [],
   "source": [
    "tree_clf = DecisionTreeClassifier(criterion=\"entropy\", random_state=0)\n",
    "tree_clf = tree_clf.fit(x_train, y_train)\n",
    "\n",
    "y_predict_train = tree_clf.predict(x_train)\n",
    "y_predict_test = tree_clf.predict(x_test)\n",
    "\n",
    "print(f'Accuracy of the training sample = {accuracy_score(y_train, y_predict_train)*100}%')\n",
    "print(f'Accuracy of the test sample = {round(accuracy_score(y_test, y_predict_test), 2)*100}%')\n",
    "\n",
    "print(\"Tree size:\", tree_clf.tree_.node_count)\n"
   ]
  },
  {
   "cell_type": "code",
   "execution_count": null,
   "metadata": {},
   "outputs": [],
   "source": [
    "path = tree_clf.cost_complexity_pruning_path(x_train, y_train)\n",
    "alphas = path['ccp_alphas']\n",
    "\n",
    "new_alphas = []\n",
    "\n",
    "temp = 1\n",
    "for alpha in alphas:\n",
    "    if abs(alpha - temp)> 0.0001:\n",
    "        new_alphas.append(alpha)\n",
    "        temp = alpha\n",
    "\n",
    "print(len(alphas))\n",
    "print(len(new_alphas))"
   ]
  },
  {
   "cell_type": "code",
   "execution_count": null,
   "metadata": {},
   "outputs": [],
   "source": [
    "acc_train = []\n",
    "acc_test = []\n",
    "tree_size = []\n",
    "tree_depth = []\n",
    "alpha_values = []\n",
    "temp = -1\n",
    "\n",
    "for alpha in new_alphas:\n",
    "    if alpha != temp:\n",
    "        temp = alpha\n",
    "        temp_tree = DecisionTreeClassifier(ccp_alpha=alpha, criterion=\"entropy\", random_state=0)\n",
    "        temp_tree.fit(x_train, y_train)\n",
    "\n",
    "        y_predect_train, y_predect_test = temp_tree.predict(x_train), temp_tree.predict(x_test)\n",
    "        \n",
    "        scores = cross_val_score(temp_tree, x_train, y_train, cv=5)\n",
    "        \n",
    "        alpha_values.append([alpha, np.mean(scores), np.std(scores)])\n",
    "        tree_depth.append(temp_tree.get_depth())\n",
    "        tree_size.append(temp_tree.tree_.node_count)\n",
    "        acc_train.append(accuracy_score(y_train, y_predect_train))\n",
    "        acc_test.append(accuracy_score(y_test, y_predect_test))\n",
    "        print(alpha)"
   ]
  },
  {
   "cell_type": "code",
   "execution_count": null,
   "metadata": {},
   "outputs": [],
   "source": [
    "plt.figure(figsize=(14, 7))\n",
    "plt.plot(tree_size, acc_train, label='train_accuracy')\n",
    "plt.plot(tree_size, acc_test, label='test_accuracy')\n",
    "plt.legend()\n",
    "plt.xlabel(\"size(tree)\")\n",
    "plt.ylabel(\"Accuracy\")\n",
    "plt.title('Accuracy vs tree(size) (Figure 1)')\n",
    "plt.show()"
   ]
  },
  {
   "cell_type": "code",
   "execution_count": null,
   "metadata": {},
   "outputs": [],
   "source": [
    "plt.figure(figsize=(14, 7))\n",
    "plt.plot(new_alphas, tree_depth)\n",
    "plt.xticks(ticks=np.arange(0.00, 0.26, 0.005), rotation=60)\n",
    "plt.xlabel(\"alphas\")\n",
    "plt.ylabel(\"tree depth\")\n",
    "plt.title('depth vs alphas (Figure 2)')\n",
    "plt.grid()\n",
    "plt.show()"
   ]
  },
  {
   "cell_type": "code",
   "execution_count": null,
   "metadata": {},
   "outputs": [],
   "source": [
    "plt.figure(figsize=(35, 14))\n",
    "plt.scatter(new_alphas, acc_train)\n",
    "plt.scatter(new_alphas, acc_test)\n",
    "plt.plot(new_alphas, acc_train, label='train_accuracy', drawstyle=\"steps-post\")\n",
    "plt.plot(new_alphas, acc_test, label='test_accuracy', drawstyle=\"steps-post\")\n",
    "plt.xlabel(\"alphas\")\n",
    "plt.ylabel(\"accuracy\")\n",
    "plt.xticks(ticks=np.arange(0.00, 0.2, 0.005), rotation=60)\n",
    "plt.yticks(ticks=np.arange(0.00, 1.00, 0.05))\n",
    "plt.legend()\n",
    "plt.title('Accuracy vs alpha (Figure 3)')\n",
    "plt.grid()\n",
    "plt.show()"
   ]
  },
  {
   "cell_type": "code",
   "execution_count": null,
   "metadata": {},
   "outputs": [],
   "source": [
    "tree_clf = DecisionTreeClassifier(random_state=0, criterion='entropy', ccp_alpha=0.00010134290211517562\n",
    ")\n",
    "tree_clf = tree_clf.fit(x_train, y_train)\n",
    "\n",
    "y_predict_test1 = tree_clf.predict(x_test)\n",
    "y_predict_train1 = tree_clf.predict(x_train)\n",
    "\n",
    "print(f'Accuracy of the training sample = {round(accuracy_score(y_train, y_predict_train1), 3)*100}%')\n",
    "print(f'Accuracy of the test sample = {round(accuracy_score(y_test, y_predict_test1), 3)*100}%')"
   ]
  },
  {
   "cell_type": "markdown",
   "metadata": {},
   "source": [
    "# KNN"
   ]
  },
  {
   "cell_type": "code",
   "execution_count": null,
   "metadata": {},
   "outputs": [],
   "source": []
  },
  {
   "cell_type": "code",
   "execution_count": null,
   "metadata": {},
   "outputs": [],
   "source": []
  },
  {
   "cell_type": "code",
   "execution_count": null,
   "metadata": {},
   "outputs": [],
   "source": []
  },
  {
   "cell_type": "code",
   "execution_count": null,
   "metadata": {},
   "outputs": [],
   "source": []
  },
  {
   "cell_type": "code",
   "execution_count": null,
   "metadata": {},
   "outputs": [],
   "source": []
  },
  {
   "cell_type": "code",
   "execution_count": null,
   "metadata": {},
   "outputs": [],
   "source": []
  },
  {
   "cell_type": "markdown",
   "metadata": {},
   "source": [
    "# SVM"
   ]
  },
  {
   "cell_type": "markdown",
   "metadata": {},
   "source": [
    "### Linear"
   ]
  },
  {
   "cell_type": "code",
   "execution_count": 6,
   "metadata": {},
   "outputs": [],
   "source": [
    "#model_lin = svm.SVC(kernel='linear', degree=3, gamma='scale')\n",
    "#model_lin.fit(x_train, y_train)"
   ]
  },
  {
   "cell_type": "code",
   "execution_count": null,
   "metadata": {},
   "outputs": [],
   "source": [
    "#pickle.dump(model_lin, open('linear_SVM_model.sav', 'wb'))"
   ]
  },
  {
   "cell_type": "code",
   "execution_count": 7,
   "metadata": {},
   "outputs": [
    {
     "name": "stdout",
     "output_type": "stream",
     "text": [
      "SVC(kernel='linear')\n"
     ]
    }
   ],
   "source": [
    "model_lin_ser = pickle.load(open('linear_SVM_model.sav', 'rb'))\n",
    "print(model_lin_ser)\n"
   ]
  },
  {
   "cell_type": "code",
   "execution_count": 8,
   "metadata": {},
   "outputs": [],
   "source": [
    "y_pred_train = model_lin_ser.predict(x_train)\n",
    "y_pred_test = model_lin_ser.predict(x_test)"
   ]
  },
  {
   "cell_type": "code",
   "execution_count": 9,
   "metadata": {},
   "outputs": [
    {
     "name": "stdout",
     "output_type": "stream",
     "text": [
      "0.9896122448979592\n",
      "0.916952380952381\n"
     ]
    }
   ],
   "source": [
    "print(accuracy_score(y_train, y_pred_train))\n",
    "print(accuracy_score(y_test, y_pred_test))"
   ]
  },
  {
   "cell_type": "markdown",
   "metadata": {},
   "source": [
    "### rbf"
   ]
  },
  {
   "cell_type": "code",
   "execution_count": 10,
   "metadata": {},
   "outputs": [
    {
     "data": {
      "text/plain": [
       "SVC()"
      ]
     },
     "execution_count": 10,
     "metadata": {},
     "output_type": "execute_result"
    }
   ],
   "source": [
    "model_rbf = svm.SVC(kernel='rbf', degree=3, gamma='scale')\n",
    "model_rbf.fit(x_train, y_train)"
   ]
  },
  {
   "cell_type": "code",
   "execution_count": 11,
   "metadata": {},
   "outputs": [],
   "source": [
    "y_pred_train = model_rbf.predict(x_train)\n",
    "y_pred_test = model_rbf.predict(x_test)"
   ]
  },
  {
   "cell_type": "code",
   "execution_count": 12,
   "metadata": {},
   "outputs": [
    {
     "name": "stdout",
     "output_type": "stream",
     "text": [
      "0.9891020408163266\n",
      "0.9801428571428571\n"
     ]
    }
   ],
   "source": [
    "print(accuracy_score(y_train, y_pred_train))\n",
    "print(accuracy_score(y_test, y_pred_test))"
   ]
  },
  {
   "cell_type": "code",
   "execution_count": 19,
   "metadata": {},
   "outputs": [
    {
     "data": {
      "text/plain": [
       "array([0.98128571, 0.97985714, 0.979     , 0.97714286, 0.97785714,\n",
       "       0.97757143, 0.97385714, 0.97771429, 0.979     , 0.98442857])"
      ]
     },
     "execution_count": 19,
     "metadata": {},
     "output_type": "execute_result"
    }
   ],
   "source": [
    "kf = cross_val_score(model_rbf, x, y, cv=10)\n",
    "kf"
   ]
  },
  {
   "cell_type": "code",
   "execution_count": 20,
   "metadata": {},
   "outputs": [
    {
     "name": "stdout",
     "output_type": "stream",
     "text": [
      "<class 'numpy.ndarray'>\n"
     ]
    },
    {
     "data": {
      "text/plain": [
       "0.9787714285714285"
      ]
     },
     "execution_count": 20,
     "metadata": {},
     "output_type": "execute_result"
    }
   ],
   "source": [
    "print(type(kf))\n",
    "np.average(kf)"
   ]
  },
  {
   "cell_type": "code",
   "execution_count": null,
   "metadata": {},
   "outputs": [],
   "source": [
    "plt.imshow(x_train[2], cmap= \"binary\")\n",
    "plt.title(y_train[2])"
   ]
  },
  {
   "cell_type": "code",
   "execution_count": null,
   "metadata": {},
   "outputs": [],
   "source": [
    "p = np.array([0,0,0,0,0,0,0,0,0,0,0,0,0,0,0,0,0,0,0,0,0,0,0,0,0,0,0,0,0,0,0,0,0,0,0,0,0,0,0,0,0,0,0,0,0,0,0,0,0,0,0,0,0,0,0,0,0,0,0,0,0,0,0,0,0,0,0,0,0,0,0,0,0,0,0,0,0,0,0,0,0,0,0,0,0,0,0,0,0,0,0,0,0,1,2,4,4,4,3,1,0,0,0,0,0,0,0,0,0,0,0,0,0,0,0,0,0,0,0,0,2,0,0,0,0,0,0,0,0,0,0,0,0,0,0,0,0,0,0,0,0,0,0,0,0,0,0,0,0,0,54,112,126,131,85,1,0,1,0,0,0,0,0,0,0,0,0,0,0,0,0,0,0,0,2,0,57,214,246,219,204,209,247,180,7,1,1,0,0,0,0,0,0,0,0,0,0,0,0,0,0,0,1,0,208,182,37,0,0,0,36,254,74,0,3,0,0,0,0,0,0,0,0,0,0,0,0,0,0,1,0,0,228,84,0,4,1,2,0,202,133,0,4,0,0,0,0,0,0,0,0,0,0,0,0,0,0,0,2,0,191,167,0,7,2,3,2,191,144,0,4,0,0,0,0,0,0,0,0,0,0,0,0,0,0,0,3,0,68,255,55,0,0,0,0,218,119,0,4,0,0,0,0,0,0,0,0,0,0,0,0,0,0,0,0,2,0,149,249,109,40,0,59,251,44,3,2,0,0,0,0,0,0,0,0,0,0,0,0,0,0,0,0,1,2,0,126,228,244,199,241,183,0,0,2,0,0,0,0,0,0,0,0,0,0,0,0,0,0,0,0,0,0,0,0,0,61,252,229,233,194,76,0,1,0,0,0,0,0,0,0,0,0,0,0,0,0,0,0,0,0,2,5,7,187,205,15,49,165,253,147,0,2,0,0,0,0,0,0,0,0,0,0,0,0,0,0,0,0,2,0,166,232,22,0,0,0,56,255,105,0,3,0,0,0,0,0,0,0,0,0,0,0,0,0,0,3,0,54,255,49,0,4,2,6,0,121,222,2,1,1,0,0,0,0,0,0,0,0,0,0,0,0,0,4,0,151,196,0,4,1,2,7,0,87,238,6,0,1,0,0,0,0,0,0,0,0,0,0,0,0,0,2,0,191,142,0,4,0,0,0,42,236,147,0,3,0,0,0,0,0,0,0,0,0,0,0,0,0,0,1,0,215,137,2,0,9,59,156,250,169,8,2,1,0,0,0,0,0,0,0,0,0,0,0,0,0,0,2,0,150,247,225,218,233,246,198,84,0,0,1,0,0,0,0,0,0,0,0,0,0,0,0,0,0,0,1,0,3,54,93,108,85,33,0,0,1,1,0,0,0,0,0,0,0,0,0,0,0,0,0,0,0,0,0,0,0,0,0,0,0,0,2,3,0,0,0,0,0,0,0,0,0,0,0,0,0,0,0,0,0,0,0,0,1,2,3,4,3,2,0,0,0,0,0,0,0,0,0,0,0,0,0,0,0,0,0,0,0,0,0,0,0,0,0,0,0,0,0,0,0,0,0,0,0,0,0,0,0,0,0,0,0,0,0,0,0,0,0,0,0,0,0,0,0,0,0,0,0,0,0,0,0,0,0,0,0,0,0,0,0,0,0,0,0,0,0,0,0,0,0,0,0,0,0,0,0,0,0,0,0,0,0,0,0,0,0,0,0,0,0,0,0,0,0,0,0,0,0,0,0,0,0,0,0,0,0,0,0,0,0,0,0,0])\n",
    "p1 = p.reshape(-1,784)\n",
    "print(model_lin.predict(p1))"
   ]
  }
 ],
 "metadata": {
  "interpreter": {
   "hash": "a5c2c47f458f39a21d1e8084c1344b71f5e8c4a921e5d9622a1629e8bdc53d40"
  },
  "kernelspec": {
   "display_name": "Python 3.10.2 ('svm_env': venv)",
   "language": "python",
   "name": "python3"
  },
  "language_info": {
   "codemirror_mode": {
    "name": "ipython",
    "version": 3
   },
   "file_extension": ".py",
   "mimetype": "text/x-python",
   "name": "python",
   "nbconvert_exporter": "python",
   "pygments_lexer": "ipython3",
   "version": "3.8.10"
  },
  "orig_nbformat": 4
 },
 "nbformat": 4,
 "nbformat_minor": 2
}
